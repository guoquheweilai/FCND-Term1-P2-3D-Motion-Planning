{
 "cells": [
  {
   "cell_type": "markdown",
   "metadata": {},
   "source": [
    "# LOG"
   ]
  },
  {
   "cell_type": "markdown",
   "metadata": {},
   "source": [
    "03/30/2018: Start working on explain the Starter Code  \n",
    "03/31/2018: Add functions to complete the code, hardcode goal position  \n",
    "04/01/2018: Add functions, accepting goal position from arguments  "
   ]
  },
  {
   "cell_type": "markdown",
   "metadata": {},
   "source": [
    "# Explain the Starter Code\n",
    "Compare motion_planning.py with backyard_flyer_solution.py side by side and describe in words how each of modifications implemented in motion_planning.py is functioning."
   ]
  },
  {
   "cell_type": "markdown",
   "metadata": {},
   "source": [
    "1. States are defined different, using auto()\n",
    "2. Add PLANNING state in states\n",
    "3. Replace all_waypoints with waypoints in class initial definition\n",
    "4. In state_callback(), in Arming state, instead of calling takeoff_transition(), it is calling plan_path()\n",
    "5. In state_callback(), in Planning state, calliing takeoff_transition()\n",
    "6. Add new function send_waypoints()\n",
    "7. Add new function plan_path()"
   ]
  },
  {
   "cell_type": "markdown",
   "metadata": {},
   "source": [
    "## Import libraries"
   ]
  },
  {
   "cell_type": "code",
   "execution_count": 1,
   "metadata": {
    "scrolled": true
   },
   "outputs": [],
   "source": [
    "import argparse\n",
    "import time\n",
    "import msgpack\n",
    "from enum import Enum, auto\n",
    "\n",
    "import numpy as np\n",
    "\n",
    "from planning_utils import a_star, heuristic, create_grid\n",
    "from udacidrone import Drone\n",
    "from udacidrone.connection import MavlinkConnection\n",
    "from udacidrone.messaging import MsgID\n",
    "from udacidrone.frame_utils import global_to_local\n",
    "\n"
   ]
  },
  {
   "cell_type": "code",
   "execution_count": 2,
   "metadata": {},
   "outputs": [],
   "source": [
    "import re\n",
    "import matplotlib.pyplot as plt"
   ]
  },
  {
   "cell_type": "markdown",
   "metadata": {},
   "source": [
    "## Define functions"
   ]
  },
  {
   "cell_type": "code",
   "execution_count": 3,
   "metadata": {},
   "outputs": [],
   "source": [
    "def read_home(filepath):\n",
    "    \"\"\"\n",
    "    Read the first line of the csv file\n",
    "    extract lat0 and lon0 as floating point values\n",
    "    \"\"\"\n",
    "    # Read first line\n",
    "    with open(filepath) as f:\n",
    "        first_line = f.readline()\n",
    "#     print(first_line)\n",
    "    # Regular expression match\n",
    "    ret_groups = re.match('^lat0 (.*), lon0 (.*)$', first_line)\n",
    "#     print(ret_groups.group(1))\n",
    "    lat0 = float(ret_groups.group(1))\n",
    "    lon0 = float(ret_groups.group(2))\n",
    "#     print(type(lon0))\n",
    "    \n",
    "    return lat0, lon0"
   ]
  },
  {
   "cell_type": "code",
   "execution_count": 4,
   "metadata": {},
   "outputs": [],
   "source": [
    "# filepath = 'colliders.csv'\n",
    "# lat0, lon0 = read_home(filepath)\n",
    "# print(\"lat0 is \", lat0)\n",
    "# print(\"lon0 is \", lon0)"
   ]
  },
  {
   "cell_type": "code",
   "execution_count": 5,
   "metadata": {},
   "outputs": [],
   "source": [
    "# Define a simple function to add a z coordinate of 1\n",
    "def point(p):\n",
    "    return np.array([p[0], p[1], 1.])"
   ]
  },
  {
   "cell_type": "code",
   "execution_count": 6,
   "metadata": {},
   "outputs": [],
   "source": [
    "def collinearity_float(p1, p2, p3, epsilon=1e-2): \n",
    "    collinear = False\n",
    "    # TODO: Add a third dimension of z=1 to each point\n",
    "    p1_new = point(p1)\n",
    "    p2_new = point(p2)\n",
    "    p3_new = point(p3)\n",
    "    \n",
    "    # TODO: Create the matrix out of three points\n",
    "    mat = np.vstack((p1_new, p2_new, p3_new))\n",
    "    \n",
    "    # TODO: Calculate the determinant of the matrix. \n",
    "    det = np.linalg.det(mat)\n",
    "    \n",
    "    # TODO: Set collinear to True if the determinant is less than epsilon\n",
    "    collinear = False\n",
    "    if np.abs(det) < epsilon:\n",
    "        collinear = True\n",
    "\n",
    "    return collinear"
   ]
  },
  {
   "cell_type": "code",
   "execution_count": 7,
   "metadata": {},
   "outputs": [],
   "source": [
    "def collinearity_int(p1, p2, p3): \n",
    "    collinear = False\n",
    "    # TODO: Calculate the determinant of the matrix using integer arithmetic \n",
    "    det = p1[0] * (p2[1] - p3[1]) + p2[0] * (p3[1] - p1[1]) + p3[0] * (p1[1] - p2[1])\n",
    "    \n",
    "    # TODO: Set collinear to True if the determinant is equal to zero\n",
    "    if 0 == det:\n",
    "        collinear = True\n",
    "\n",
    "    return collinear"
   ]
  },
  {
   "cell_type": "code",
   "execution_count": 8,
   "metadata": {},
   "outputs": [],
   "source": [
    "def bres(p1, p2): \n",
    "    \"\"\"\n",
    "    Note this solution requires `x1` < `x2` and `y1` < `y2`.\n",
    "    \"\"\"\n",
    "    x1, y1 = p1\n",
    "    x2, y2 = p2\n",
    "    cells = []\n",
    "    \n",
    "    # TODO: Determine valid grid cells\n",
    "    dy = y2 - y1\n",
    "    dx = x2 - x1\n",
    "    # y = m*x + b\n",
    "    # -> dy = m*dx\n",
    "    # -> m = dy/dx\n",
    "    m = dy/dx\n",
    "#     print(\"m is\", m)\n",
    "    \n",
    "    # Initial value\n",
    "    x = x1\n",
    "    y = y1\n",
    "    \n",
    "    # Initial cell value\n",
    "    x_cell = x1\n",
    "    y_cell = y1\n",
    "    \n",
    "    # Initial line equation result\n",
    "    f = m\n",
    "    \n",
    "    while x < x2 and y < y2:\n",
    "        cells.append([x_cell, y_cell])\n",
    "#         print(\"y is\", y)\n",
    "        \n",
    "        if f > (y + 1):\n",
    "            y += 1\n",
    "            y_cell += 1\n",
    "#             print(\"Increase y\")\n",
    "#             print(\"y is\", y)\n",
    "        elif f == (y + 1):\n",
    "            if 0: # Set it to 1 for more conservative approach\n",
    "                cells.append([x_cell + 1, y_cell])\n",
    "                cells.append([x_cell, y_cell + 1])\n",
    "            x += 1\n",
    "            x_cell += 1\n",
    "            y += 1\n",
    "            y_cell += 1\n",
    "            f += m\n",
    "        else:\n",
    "            x += 1\n",
    "            x_cell += 1\n",
    "            f += m\n",
    "#             print(\"Increase x\")\n",
    "#             print(\"x is\", x)\n",
    "        \n",
    "        \n",
    "    return np.array(cells)"
   ]
  },
  {
   "cell_type": "code",
   "execution_count": 9,
   "metadata": {},
   "outputs": [],
   "source": [
    "def prune_path(path):\n",
    "    pruned_path = [p for p in path]\n",
    "    # TODO: prune the path!\n",
    "    i = 0\n",
    "    while i < len(pruned_path) - 2:\n",
    "        p1 = point(pruned_path[i])\n",
    "        p2 = point(pruned_path[i + 1])\n",
    "        p3 = point(pruned_path[i + 2])\n",
    "        \n",
    "        # Check if 3 points are in a line\n",
    "        if collinearity_float(p1, p2, p3):\n",
    "            # Remove the 2nd point from the path\n",
    "            pruned_path.remove(pruned_path[i+1])\n",
    "        else:\n",
    "            # Move to the next 3 points\n",
    "            i += 1\n",
    "    \n",
    "    return pruned_path"
   ]
  },
  {
   "cell_type": "markdown",
   "metadata": {},
   "source": [
    "## Define classes"
   ]
  },
  {
   "cell_type": "code",
   "execution_count": 10,
   "metadata": {},
   "outputs": [],
   "source": [
    "class States(Enum):\n",
    "    MANUAL = auto()\n",
    "    ARMING = auto()\n",
    "    TAKEOFF = auto()\n",
    "    WAYPOINT = auto()\n",
    "    LANDING = auto()\n",
    "    DISARMING = auto()\n",
    "    PLANNING = auto()\n"
   ]
  },
  {
   "cell_type": "code",
   "execution_count": 11,
   "metadata": {},
   "outputs": [],
   "source": [
    "class MotionPlanning(Drone):\n",
    "\n",
    "    def __init__(self, connection, global_goal_position=(20, 20, 20)):\n",
    "        super().__init__(connection)\n",
    "\n",
    "        self.target_position = np.array([0.0, 0.0, 0.0])\n",
    "        self.waypoints = []\n",
    "        self.in_mission = True\n",
    "        self.check_state = {}\n",
    "\n",
    "        # initial state\n",
    "        self.flight_state = States.MANUAL\n",
    "        self.global_goal_position = global_goal_position\n",
    "\n",
    "        # register all your callbacks here\n",
    "        self.register_callback(MsgID.LOCAL_POSITION, self.local_position_callback)\n",
    "        self.register_callback(MsgID.LOCAL_VELOCITY, self.velocity_callback)\n",
    "        self.register_callback(MsgID.STATE, self.state_callback)\n",
    "\n",
    "    def local_position_callback(self):\n",
    "        if self.flight_state == States.TAKEOFF:\n",
    "            if -1.0 * self.local_position[2] > 0.95 * self.target_position[2]:\n",
    "                self.waypoint_transition()\n",
    "        elif self.flight_state == States.WAYPOINT:\n",
    "            if np.linalg.norm(self.target_position[0:2] - self.local_position[0:2]) < 1.0:\n",
    "                if len(self.waypoints) > 0:\n",
    "                    self.waypoint_transition()\n",
    "                else:\n",
    "                    if np.linalg.norm(self.local_velocity[0:2]) < 1.0:\n",
    "                        self.landing_transition()\n",
    "\n",
    "    def velocity_callback(self):\n",
    "        if self.flight_state == States.LANDING:\n",
    "            if self.global_position[2] - self.global_home[2] < 0.1:\n",
    "                if abs(self.local_position[2]) < 0.01:\n",
    "                    self.disarming_transition()\n",
    "\n",
    "    def state_callback(self):\n",
    "        if self.in_mission:\n",
    "            if self.flight_state == States.MANUAL:\n",
    "                self.arming_transition()\n",
    "            elif self.flight_state == States.ARMING:\n",
    "                if self.armed:\n",
    "                    self.plan_path()\n",
    "            elif self.flight_state == States.PLANNING:\n",
    "                self.takeoff_transition()\n",
    "            elif self.flight_state == States.DISARMING:\n",
    "                if ~self.armed & ~self.guided:\n",
    "                    self.manual_transition()\n",
    "\n",
    "    def arming_transition(self):\n",
    "        self.flight_state = States.ARMING\n",
    "        print(\"arming transition\")\n",
    "        self.arm()\n",
    "        self.take_control()\n",
    "\n",
    "    def takeoff_transition(self):\n",
    "        self.flight_state = States.TAKEOFF\n",
    "        print(\"takeoff transition\")\n",
    "        self.takeoff(self.target_position[2])\n",
    "\n",
    "    def waypoint_transition(self):\n",
    "        self.flight_state = States.WAYPOINT\n",
    "        print(\"waypoint transition\")\n",
    "        self.target_position = self.waypoints.pop(0)\n",
    "        print('target position', self.target_position)\n",
    "        self.cmd_position(self.target_position[0], self.target_position[1], self.target_position[2], self.target_position[3])\n",
    "\n",
    "    def landing_transition(self):\n",
    "        self.flight_state = States.LANDING\n",
    "        print(\"landing transition\")\n",
    "        self.land()\n",
    "\n",
    "    def disarming_transition(self):\n",
    "        self.flight_state = States.DISARMING\n",
    "        print(\"disarm transition\")\n",
    "        self.disarm()\n",
    "        self.release_control()\n",
    "\n",
    "    def manual_transition(self):\n",
    "        self.flight_state = States.MANUAL\n",
    "        print(\"manual transition\")\n",
    "        self.stop()\n",
    "        self.in_mission = False\n",
    "\n",
    "    def send_waypoints(self):\n",
    "        print(\"Sending waypoints to simulator ...\")\n",
    "        data = msgpack.dumps(self.waypoints)\n",
    "        self.connection._master.write(data)\n",
    "\n",
    "    def plan_path(self):\n",
    "        self.flight_state = States.PLANNING\n",
    "        print(\"Searching for a path ...\")\n",
    "        TARGET_ALTITUDE = 5\n",
    "        SAFETY_DISTANCE = 5\n",
    "\n",
    "        self.target_position[2] = TARGET_ALTITUDE\n",
    "\n",
    "        # TODO: read lat0, lon0 from colliders into floating point values\n",
    "        filepath = 'colliders.csv'\n",
    "        lat0, lon0 = read_home(filepath)\n",
    "        print(\"Current global home is ({0}, {1}).\".format('lat0', 'lon0'))\n",
    "\n",
    "        # TODO: set home position to (lon0, lat0, 0)\n",
    "        self.set_home_position(lon0, lat0, 0)\n",
    "\n",
    "        # TODO: retrieve current global position\n",
    "        global_lon, global_lat, global_alt = self.global_position\n",
    " \n",
    "        # TODO: convert to current local position using global_to_local()\n",
    "        local_north, local_east, local_down = global_to_local(self.global_position, self.global_home)\n",
    "        print('global home {0}, position {1}, local position {2}'.format(self.global_home, self.global_position,\n",
    "                                                                         self.local_position))\n",
    "        # Read in obstacle map\n",
    "        data = np.loadtxt('colliders.csv', delimiter=',', dtype='Float64', skiprows=2)\n",
    "        \n",
    "        # Define a grid for a particular altitude and safety margin around obstacles\n",
    "        grid, north_offset, east_offset = create_grid(data, TARGET_ALTITUDE, SAFETY_DISTANCE)\n",
    "        print(\"North offset = {0}, east offset = {1}\".format(north_offset, east_offset))\n",
    "        \n",
    "        # Plot current grid\n",
    "        print(\"Plot current grid.\")\n",
    "        plt.rcParams['figure.figsize'] = 12, 12\n",
    "        # equivalent to\n",
    "        # plt.imshow(np.flip(grid, 0))\n",
    "        plt.imshow(grid, origin='lower') \n",
    "        \n",
    "        plt.xlabel('EAST')\n",
    "        plt.ylabel('NORTH')\n",
    "        plt.show()\n",
    "        \n",
    "        # Define starting point on the grid (this is just grid center)\n",
    "#         grid_start = (-north_offset, -east_offset)\n",
    "        # TODO: convert start position to current position rather than map center\n",
    "        grid_start_north = int(np.ceil(local_north - north_offset))\n",
    "        grid_start_east = int(np.ceil(local_east - east_offset))\n",
    "        grid_start = (grid_start_north, grid_start_east)\n",
    "        \n",
    "        # Set goal as some arbitrary position on the grid\n",
    "#         grid_goal = (-north_offset + 10, -east_offset + 10)\n",
    "        # TODO: adapt to set goal as latitude / longitude position and convert\n",
    "#         self.global_goal_position = [10, 10, 10] # Change the global goal position\n",
    "        local_goal_north, local_goal_east, local_goal_down = global_to_local(self.global_goal_position, self.global_home)\n",
    "        grid_goal_north = int(np.ceil(local_goal_north - north_offset))\n",
    "        grid_goal_east = int(np.ceil(local_goal_east - east_offset))\n",
    "        grid_goal = (grid_goal_north, grid_goal_east)\n",
    "\n",
    "        # Run A* to find a path from start to goal\n",
    "        # TODO: add diagonal motions with a cost of sqrt(2) to your A* implementation\n",
    "        # or move to a different search space such as a graph (not done here)\n",
    "        print('Local Start and Goal: ', grid_start, grid_goal)\n",
    "        path, _ = a_star(grid, heuristic, grid_start, grid_goal)\n",
    "        \n",
    "        # Plot founded path on grid\n",
    "        print(\"Plot founded path on grid.\")\n",
    "        plt.imshow(grid, cmap='Greys', origin='lower')\n",
    "\n",
    "        # For the purposes of the visual the east coordinate lay along\n",
    "        # the x-axis and the north coordinates long the y-axis.\n",
    "        plt.plot(grid_start[1], grid_start[0], 'x')\n",
    "        plt.plot(grid_goal[1], grid_goal[0], 'x')\n",
    "\n",
    "        pp = np.array(path)\n",
    "        plt.plot(pp[:, 1], pp[:, 0], 'g')\n",
    "\n",
    "        plt.xlabel('EAST')\n",
    "        plt.ylabel('NORTH')\n",
    "        plt.show()\n",
    "        \n",
    "        # TODO: prune path to minimize number of waypoints\n",
    "        pruned_path = prune_path(path)\n",
    "        \n",
    "        # Plot pruned path on grid\n",
    "        print(\"Plot pruned path on grid.\")\n",
    "        plt.imshow(grid, cmap='Greys', origin='lower')\n",
    "\n",
    "        plt.plot(grid_start[1], grid_start[0], 'x')\n",
    "        plt.plot(grid_goal[1], grid_goal[0], 'x')\n",
    "\n",
    "        pp = np.array(pruned_path)\n",
    "        plt.plot(pp[:, 1], pp[:, 0], 'g')\n",
    "        plt.scatter(pp[:, 1], pp[:, 0])\n",
    "\n",
    "        plt.xlabel('EAST')\n",
    "        plt.ylabel('NORTH')\n",
    "\n",
    "        plt.show()\n",
    "        \n",
    "        # TODO (if you're feeling ambitious): Try a different approach altogether!\n",
    "\n",
    "        # Convert path to waypoints\n",
    "        waypoints = [[p[0] + north_offset, p[1] + east_offset, TARGET_ALTITUDE, 0] for p in pruned_path]\n",
    "        # Set self.waypoints\n",
    "        self.waypoints = waypoints\n",
    "        # TODO: send waypoints to sim\n",
    "        self.send_waypoints()\n",
    "\n",
    "    def start(self):\n",
    "        self.start_log(\"Logs\", \"NavLog.txt\")\n",
    "\n",
    "        print(\"starting connection\")\n",
    "        self.connection.start()\n",
    "\n",
    "        # Only required if they do threaded\n",
    "        # while self.in_mission:\n",
    "        #    pass\n",
    "\n",
    "        self.stop_log()\n"
   ]
  },
  {
   "cell_type": "code",
   "execution_count": 12,
   "metadata": {},
   "outputs": [],
   "source": [
    "# if __name__ == \"__main__\":\n",
    "#     parser = argparse.ArgumentParser()\n",
    "#     parser.add_argument('--port', type=int, default=5760, help='Port number')\n",
    "#     parser.add_argument('--host', type=str, default='127.0.0.1', help=\"host address, i.e. '127.0.0.1'\")\n",
    "#     parser.add_argument('--global_goal_lon', type=str, default='10', help=\"Goal position longitude\")\n",
    "#     parser.add_argument('--global_goal_lat', type=str, default='10', help=\"Goal position latitude\")\n",
    "#     parser.add_argument('--global_goal_alt', type=str, default='10', help=\"Goal position altitude\")\n",
    "    \n",
    "#     args = parser.parse_args()\n",
    "#     %tb\n",
    "    \n",
    "#     conn = MavlinkConnection('tcp:{0}:{1}'.format(args.host, args.port), timeout=60)\n",
    "#     global_goal_position = np.fromstring('{args.global_goal_lon},{args.global_goal_lat},{args.global_goal_alt}', dtype='Float64', sep=',')\n",
    "\n",
    "    "
   ]
  },
  {
   "cell_type": "code",
   "execution_count": null,
   "metadata": {
    "scrolled": false
   },
   "outputs": [
    {
     "name": "stdout",
     "output_type": "stream",
     "text": [
      "Logs\\TLog.txt\n",
      "Logs\\NavLog.txt\n",
      "starting connection\n",
      "arming transition\n",
      "Searching for a path ...\n",
      "Current global home is (lat0, lon0).\n",
      "global home [-122.3974533   37.7924804    0.       ], position [-1.22397451e+02  3.77924805e+01  3.10000000e-02], local position [ 0.01325876  0.17082691 -0.03116243]\n",
      "North offset = -316, east offset = -445\n",
      "Plot current grid.\n"
     ]
    },
    {
     "data": {
      "image/png": "[encoded data removed]",
      "text/plain": [
       "<matplotlib.figure.Figure at 0x29f5a4310f0>"
      ]
     },
     "metadata": {},
     "output_type": "display_data"
    },
    {
     "name": "stdout",
     "output_type": "stream",
     "text": [
      "Local Start and Goal:  (317, 446) (786, 46)\n",
      "Found a path.\n",
      "Plot founded path on grid.\n"
     ]
    },
    {
     "data": {
      "image/png": "[encoded data removed]",
      "text/plain": [
       "<matplotlib.figure.Figure at 0x29f560e7d30>"
      ]
     },
     "metadata": {},
     "output_type": "display_data"
    },
    {
     "name": "stdout",
     "output_type": "stream",
     "text": [
      "Plot pruned path on grid.\n"
     ]
    },
    {
     "data": {
      "image/png": "[encoded data removed]",
      "text/plain": [
       "<matplotlib.figure.Figure at 0x29f5a478b00>"
      ]
     },
     "metadata": {},
     "output_type": "display_data"
    },
    {
     "name": "stdout",
     "output_type": "stream",
     "text": [
      "Sending waypoints to simulator ...\n",
      "takeoff transition\n",
      "waypoint transition\n",
      "target position [1, 1, 5, 0]\n",
      "waypoint transition\n",
      "target position [344, -342, 5, 0]\n"
     ]
    }
   ],
   "source": [
    "conn = MavlinkConnection('tcp:127.0.0.1:5760', timeout=60)\n",
    "global_goal_position = (-122.40195876, 37.79673913, -0.147)\n",
    "\n",
    "drone = MotionPlanning(conn, global_goal_position = global_goal_position)\n",
    "time.sleep(1)\n",
    "drone.start()"
   ]
  },
  {
   "cell_type": "code",
   "execution_count": null,
   "metadata": {},
   "outputs": [],
   "source": []
  }
 ],
 "metadata": {
  "kernelspec": {
   "display_name": "Python 3",
   "language": "python",
   "name": "python3"
  },
  "language_info": {
   "codemirror_mode": {
    "name": "ipython",
    "version": 3
   },
   "file_extension": ".py",
   "mimetype": "text/x-python",
   "name": "python",
   "nbconvert_exporter": "python",
   "pygments_lexer": "ipython3",
   "version": "3.6.3"
  }
 },
 "nbformat": 4,
 "nbformat_minor": 2
}
